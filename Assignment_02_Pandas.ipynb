{
 "cells": [
  {
   "cell_type": "markdown",
   "id": "dde80655",
   "metadata": {},
   "source": [
    "## Name : Saifullah Rajput\n",
    "### Roll_No : 379693"
   ]
  },
  {
   "cell_type": "code",
   "execution_count": 1,
   "id": "cae6e2a9",
   "metadata": {},
   "outputs": [],
   "source": [
    "import pandas as pd\n",
    "import seaborn as sns\n",
    "import matplotlib.pyplot as plt \n"
   ]
  },
  {
   "cell_type": "code",
   "execution_count": 2,
   "id": "dc38d006",
   "metadata": {},
   "outputs": [],
   "source": [
    "df = pd.read_csv(\"netflix_titles.csv\")\n",
    "\n",
    "\n",
    "#Download From: https://www.kaggle.com/datasets/shivamb/netflix-shows\n",
    "#File to Use: netflix_titles.csv\n"
   ]
  },
  {
   "cell_type": "markdown",
   "id": "d35418ac",
   "metadata": {},
   "source": [
    "## PART 01\n"
   ]
  },
  {
   "cell_type": "markdown",
   "id": "7d4fdb15",
   "metadata": {},
   "source": [
    "### Q NO 01"
   ]
  },
  {
   "cell_type": "code",
   "execution_count": 9,
   "id": "a8916333",
   "metadata": {},
   "outputs": [
    {
     "data": {
      "text/html": [
       "<div>\n",
       "<style scoped>\n",
       "    .dataframe tbody tr th:only-of-type {\n",
       "        vertical-align: middle;\n",
       "    }\n",
       "\n",
       "    .dataframe tbody tr th {\n",
       "        vertical-align: top;\n",
       "    }\n",
       "\n",
       "    .dataframe thead th {\n",
       "        text-align: right;\n",
       "    }\n",
       "</style>\n",
       "<table border=\"1\" class=\"dataframe\">\n",
       "  <thead>\n",
       "    <tr style=\"text-align: right;\">\n",
       "      <th></th>\n",
       "      <th>show_id</th>\n",
       "      <th>type</th>\n",
       "      <th>title</th>\n",
       "      <th>director</th>\n",
       "      <th>cast</th>\n",
       "      <th>country</th>\n",
       "      <th>date_added</th>\n",
       "      <th>release_year</th>\n",
       "      <th>rating</th>\n",
       "      <th>duration</th>\n",
       "      <th>listed_in</th>\n",
       "      <th>description</th>\n",
       "    </tr>\n",
       "  </thead>\n",
       "  <tbody>\n",
       "    <tr>\n",
       "      <th>0</th>\n",
       "      <td>s1</td>\n",
       "      <td>Movie</td>\n",
       "      <td>Dick Johnson Is Dead</td>\n",
       "      <td>Kirsten Johnson</td>\n",
       "      <td>NaN</td>\n",
       "      <td>United States</td>\n",
       "      <td>September 25, 2021</td>\n",
       "      <td>2020</td>\n",
       "      <td>PG-13</td>\n",
       "      <td>90 min</td>\n",
       "      <td>Documentaries</td>\n",
       "      <td>As her father nears the end of his life, filmm...</td>\n",
       "    </tr>\n",
       "    <tr>\n",
       "      <th>1</th>\n",
       "      <td>s2</td>\n",
       "      <td>TV Show</td>\n",
       "      <td>Blood &amp; Water</td>\n",
       "      <td>NaN</td>\n",
       "      <td>Ama Qamata, Khosi Ngema, Gail Mabalane, Thaban...</td>\n",
       "      <td>South Africa</td>\n",
       "      <td>September 24, 2021</td>\n",
       "      <td>2021</td>\n",
       "      <td>TV-MA</td>\n",
       "      <td>2 Seasons</td>\n",
       "      <td>International TV Shows, TV Dramas, TV Mysteries</td>\n",
       "      <td>After crossing paths at a party, a Cape Town t...</td>\n",
       "    </tr>\n",
       "    <tr>\n",
       "      <th>2</th>\n",
       "      <td>s3</td>\n",
       "      <td>TV Show</td>\n",
       "      <td>Ganglands</td>\n",
       "      <td>Julien Leclercq</td>\n",
       "      <td>Sami Bouajila, Tracy Gotoas, Samuel Jouy, Nabi...</td>\n",
       "      <td>NaN</td>\n",
       "      <td>September 24, 2021</td>\n",
       "      <td>2021</td>\n",
       "      <td>TV-MA</td>\n",
       "      <td>1 Season</td>\n",
       "      <td>Crime TV Shows, International TV Shows, TV Act...</td>\n",
       "      <td>To protect his family from a powerful drug lor...</td>\n",
       "    </tr>\n",
       "    <tr>\n",
       "      <th>3</th>\n",
       "      <td>s4</td>\n",
       "      <td>TV Show</td>\n",
       "      <td>Jailbirds New Orleans</td>\n",
       "      <td>NaN</td>\n",
       "      <td>NaN</td>\n",
       "      <td>NaN</td>\n",
       "      <td>September 24, 2021</td>\n",
       "      <td>2021</td>\n",
       "      <td>TV-MA</td>\n",
       "      <td>1 Season</td>\n",
       "      <td>Docuseries, Reality TV</td>\n",
       "      <td>Feuds, flirtations and toilet talk go down amo...</td>\n",
       "    </tr>\n",
       "    <tr>\n",
       "      <th>4</th>\n",
       "      <td>s5</td>\n",
       "      <td>TV Show</td>\n",
       "      <td>Kota Factory</td>\n",
       "      <td>NaN</td>\n",
       "      <td>Mayur More, Jitendra Kumar, Ranjan Raj, Alam K...</td>\n",
       "      <td>India</td>\n",
       "      <td>September 24, 2021</td>\n",
       "      <td>2021</td>\n",
       "      <td>TV-MA</td>\n",
       "      <td>2 Seasons</td>\n",
       "      <td>International TV Shows, Romantic TV Shows, TV ...</td>\n",
       "      <td>In a city of coaching centers known to train I...</td>\n",
       "    </tr>\n",
       "  </tbody>\n",
       "</table>\n",
       "</div>"
      ],
      "text/plain": [
       "  show_id     type                  title         director  \\\n",
       "0      s1    Movie   Dick Johnson Is Dead  Kirsten Johnson   \n",
       "1      s2  TV Show          Blood & Water              NaN   \n",
       "2      s3  TV Show              Ganglands  Julien Leclercq   \n",
       "3      s4  TV Show  Jailbirds New Orleans              NaN   \n",
       "4      s5  TV Show           Kota Factory              NaN   \n",
       "\n",
       "                                                cast        country  \\\n",
       "0                                                NaN  United States   \n",
       "1  Ama Qamata, Khosi Ngema, Gail Mabalane, Thaban...   South Africa   \n",
       "2  Sami Bouajila, Tracy Gotoas, Samuel Jouy, Nabi...            NaN   \n",
       "3                                                NaN            NaN   \n",
       "4  Mayur More, Jitendra Kumar, Ranjan Raj, Alam K...          India   \n",
       "\n",
       "           date_added  release_year rating   duration  \\\n",
       "0  September 25, 2021          2020  PG-13     90 min   \n",
       "1  September 24, 2021          2021  TV-MA  2 Seasons   \n",
       "2  September 24, 2021          2021  TV-MA   1 Season   \n",
       "3  September 24, 2021          2021  TV-MA   1 Season   \n",
       "4  September 24, 2021          2021  TV-MA  2 Seasons   \n",
       "\n",
       "                                           listed_in  \\\n",
       "0                                      Documentaries   \n",
       "1    International TV Shows, TV Dramas, TV Mysteries   \n",
       "2  Crime TV Shows, International TV Shows, TV Act...   \n",
       "3                             Docuseries, Reality TV   \n",
       "4  International TV Shows, Romantic TV Shows, TV ...   \n",
       "\n",
       "                                         description  \n",
       "0  As her father nears the end of his life, filmm...  \n",
       "1  After crossing paths at a party, a Cape Town t...  \n",
       "2  To protect his family from a powerful drug lor...  \n",
       "3  Feuds, flirtations and toilet talk go down amo...  \n",
       "4  In a city of coaching centers known to train I...  "
      ]
     },
     "execution_count": 9,
     "metadata": {},
     "output_type": "execute_result"
    }
   ],
   "source": [
    "df.head()"
   ]
  },
  {
   "cell_type": "code",
   "execution_count": 10,
   "id": "7a37757c",
   "metadata": {},
   "outputs": [
    {
     "data": {
      "text/html": [
       "<div>\n",
       "<style scoped>\n",
       "    .dataframe tbody tr th:only-of-type {\n",
       "        vertical-align: middle;\n",
       "    }\n",
       "\n",
       "    .dataframe tbody tr th {\n",
       "        vertical-align: top;\n",
       "    }\n",
       "\n",
       "    .dataframe thead th {\n",
       "        text-align: right;\n",
       "    }\n",
       "</style>\n",
       "<table border=\"1\" class=\"dataframe\">\n",
       "  <thead>\n",
       "    <tr style=\"text-align: right;\">\n",
       "      <th></th>\n",
       "      <th>show_id</th>\n",
       "      <th>type</th>\n",
       "      <th>title</th>\n",
       "      <th>director</th>\n",
       "      <th>cast</th>\n",
       "      <th>country</th>\n",
       "      <th>date_added</th>\n",
       "      <th>release_year</th>\n",
       "      <th>rating</th>\n",
       "      <th>duration</th>\n",
       "      <th>listed_in</th>\n",
       "      <th>description</th>\n",
       "    </tr>\n",
       "  </thead>\n",
       "  <tbody>\n",
       "    <tr>\n",
       "      <th>8802</th>\n",
       "      <td>s8803</td>\n",
       "      <td>Movie</td>\n",
       "      <td>Zodiac</td>\n",
       "      <td>David Fincher</td>\n",
       "      <td>Mark Ruffalo, Jake Gyllenhaal, Robert Downey J...</td>\n",
       "      <td>United States</td>\n",
       "      <td>November 20, 2019</td>\n",
       "      <td>2007</td>\n",
       "      <td>R</td>\n",
       "      <td>158 min</td>\n",
       "      <td>Cult Movies, Dramas, Thrillers</td>\n",
       "      <td>A political cartoonist, a crime reporter and a...</td>\n",
       "    </tr>\n",
       "    <tr>\n",
       "      <th>8803</th>\n",
       "      <td>s8804</td>\n",
       "      <td>TV Show</td>\n",
       "      <td>Zombie Dumb</td>\n",
       "      <td>NaN</td>\n",
       "      <td>NaN</td>\n",
       "      <td>NaN</td>\n",
       "      <td>July 1, 2019</td>\n",
       "      <td>2018</td>\n",
       "      <td>TV-Y7</td>\n",
       "      <td>2 Seasons</td>\n",
       "      <td>Kids' TV, Korean TV Shows, TV Comedies</td>\n",
       "      <td>While living alone in a spooky town, a young g...</td>\n",
       "    </tr>\n",
       "    <tr>\n",
       "      <th>8804</th>\n",
       "      <td>s8805</td>\n",
       "      <td>Movie</td>\n",
       "      <td>Zombieland</td>\n",
       "      <td>Ruben Fleischer</td>\n",
       "      <td>Jesse Eisenberg, Woody Harrelson, Emma Stone, ...</td>\n",
       "      <td>United States</td>\n",
       "      <td>November 1, 2019</td>\n",
       "      <td>2009</td>\n",
       "      <td>R</td>\n",
       "      <td>88 min</td>\n",
       "      <td>Comedies, Horror Movies</td>\n",
       "      <td>Looking to survive in a world taken over by zo...</td>\n",
       "    </tr>\n",
       "    <tr>\n",
       "      <th>8805</th>\n",
       "      <td>s8806</td>\n",
       "      <td>Movie</td>\n",
       "      <td>Zoom</td>\n",
       "      <td>Peter Hewitt</td>\n",
       "      <td>Tim Allen, Courteney Cox, Chevy Chase, Kate Ma...</td>\n",
       "      <td>United States</td>\n",
       "      <td>January 11, 2020</td>\n",
       "      <td>2006</td>\n",
       "      <td>PG</td>\n",
       "      <td>88 min</td>\n",
       "      <td>Children &amp; Family Movies, Comedies</td>\n",
       "      <td>Dragged from civilian life, a former superhero...</td>\n",
       "    </tr>\n",
       "    <tr>\n",
       "      <th>8806</th>\n",
       "      <td>s8807</td>\n",
       "      <td>Movie</td>\n",
       "      <td>Zubaan</td>\n",
       "      <td>Mozez Singh</td>\n",
       "      <td>Vicky Kaushal, Sarah-Jane Dias, Raaghav Chanan...</td>\n",
       "      <td>India</td>\n",
       "      <td>March 2, 2019</td>\n",
       "      <td>2015</td>\n",
       "      <td>TV-14</td>\n",
       "      <td>111 min</td>\n",
       "      <td>Dramas, International Movies, Music &amp; Musicals</td>\n",
       "      <td>A scrappy but poor boy worms his way into a ty...</td>\n",
       "    </tr>\n",
       "  </tbody>\n",
       "</table>\n",
       "</div>"
      ],
      "text/plain": [
       "     show_id     type        title         director  \\\n",
       "8802   s8803    Movie       Zodiac    David Fincher   \n",
       "8803   s8804  TV Show  Zombie Dumb              NaN   \n",
       "8804   s8805    Movie   Zombieland  Ruben Fleischer   \n",
       "8805   s8806    Movie         Zoom     Peter Hewitt   \n",
       "8806   s8807    Movie       Zubaan      Mozez Singh   \n",
       "\n",
       "                                                   cast        country  \\\n",
       "8802  Mark Ruffalo, Jake Gyllenhaal, Robert Downey J...  United States   \n",
       "8803                                                NaN            NaN   \n",
       "8804  Jesse Eisenberg, Woody Harrelson, Emma Stone, ...  United States   \n",
       "8805  Tim Allen, Courteney Cox, Chevy Chase, Kate Ma...  United States   \n",
       "8806  Vicky Kaushal, Sarah-Jane Dias, Raaghav Chanan...          India   \n",
       "\n",
       "             date_added  release_year rating   duration  \\\n",
       "8802  November 20, 2019          2007      R    158 min   \n",
       "8803       July 1, 2019          2018  TV-Y7  2 Seasons   \n",
       "8804   November 1, 2019          2009      R     88 min   \n",
       "8805   January 11, 2020          2006     PG     88 min   \n",
       "8806      March 2, 2019          2015  TV-14    111 min   \n",
       "\n",
       "                                           listed_in  \\\n",
       "8802                  Cult Movies, Dramas, Thrillers   \n",
       "8803          Kids' TV, Korean TV Shows, TV Comedies   \n",
       "8804                         Comedies, Horror Movies   \n",
       "8805              Children & Family Movies, Comedies   \n",
       "8806  Dramas, International Movies, Music & Musicals   \n",
       "\n",
       "                                            description  \n",
       "8802  A political cartoonist, a crime reporter and a...  \n",
       "8803  While living alone in a spooky town, a young g...  \n",
       "8804  Looking to survive in a world taken over by zo...  \n",
       "8805  Dragged from civilian life, a former superhero...  \n",
       "8806  A scrappy but poor boy worms his way into a ty...  "
      ]
     },
     "execution_count": 10,
     "metadata": {},
     "output_type": "execute_result"
    }
   ],
   "source": [
    "df.tail()"
   ]
  },
  {
   "cell_type": "code",
   "execution_count": 11,
   "id": "1b0c71ad",
   "metadata": {},
   "outputs": [
    {
     "data": {
      "text/plain": [
       "(8807, 12)"
      ]
     },
     "execution_count": 11,
     "metadata": {},
     "output_type": "execute_result"
    }
   ],
   "source": [
    "df.shape"
   ]
  },
  {
   "cell_type": "code",
   "execution_count": 12,
   "id": "d6f1e16d",
   "metadata": {},
   "outputs": [
    {
     "data": {
      "text/plain": [
       "Index(['show_id', 'type', 'title', 'director', 'cast', 'country', 'date_added',\n",
       "       'release_year', 'rating', 'duration', 'listed_in', 'description'],\n",
       "      dtype='object')"
      ]
     },
     "execution_count": 12,
     "metadata": {},
     "output_type": "execute_result"
    }
   ],
   "source": [
    "df.columns\n"
   ]
  },
  {
   "cell_type": "code",
   "execution_count": 13,
   "id": "be99d3aa",
   "metadata": {},
   "outputs": [
    {
     "name": "stdout",
     "output_type": "stream",
     "text": [
      "<class 'pandas.core.frame.DataFrame'>\n",
      "RangeIndex: 8807 entries, 0 to 8806\n",
      "Data columns (total 12 columns):\n",
      " #   Column        Non-Null Count  Dtype \n",
      "---  ------        --------------  ----- \n",
      " 0   show_id       8807 non-null   object\n",
      " 1   type          8807 non-null   object\n",
      " 2   title         8807 non-null   object\n",
      " 3   director      6173 non-null   object\n",
      " 4   cast          7982 non-null   object\n",
      " 5   country       7976 non-null   object\n",
      " 6   date_added    8797 non-null   object\n",
      " 7   release_year  8807 non-null   int64 \n",
      " 8   rating        8803 non-null   object\n",
      " 9   duration      8804 non-null   object\n",
      " 10  listed_in     8807 non-null   object\n",
      " 11  description   8807 non-null   object\n",
      "dtypes: int64(1), object(11)\n",
      "memory usage: 825.8+ KB\n"
     ]
    }
   ],
   "source": [
    "df.info()"
   ]
  },
  {
   "cell_type": "markdown",
   "id": "825346e5",
   "metadata": {},
   "source": [
    "### Q NO 02 (Data Cleaning)"
   ]
  },
  {
   "cell_type": "markdown",
   "id": "f79257cb",
   "metadata": {},
   "source": [
    "#####   Q.   Check for missing values and count them per column"
   ]
  },
  {
   "cell_type": "code",
   "execution_count": 23,
   "id": "eac91c2b",
   "metadata": {},
   "outputs": [
    {
     "name": "stdout",
     "output_type": "stream",
     "text": [
      "Missing values per column:\n",
      "0\n"
     ]
    }
   ],
   "source": [
    "missing_values = df.isnull().sum()\n",
    "print(\"Missing values per column:\")\n",
    "print(missing_values)"
   ]
  },
  {
   "cell_type": "markdown",
   "id": "b21b4d1d",
   "metadata": {},
   "source": [
    "#####  Q.   Drop all rows where the title or type is missing"
   ]
  },
  {
   "cell_type": "code",
   "execution_count": 57,
   "id": "4cfa5e80",
   "metadata": {},
   "outputs": [],
   "source": [
    "import pandas as pd\n",
    "\n",
    "# importing Pandas Library Again Due to some error occuring bcz of is_null .sum"
   ]
  },
  {
   "cell_type": "code",
   "execution_count": 44,
   "id": "17f1b1c5",
   "metadata": {},
   "outputs": [],
   "source": [
    "df = pd.read_csv('netflix_titles.csv') "
   ]
  },
  {
   "cell_type": "code",
   "execution_count": 47,
   "id": "685abe05",
   "metadata": {},
   "outputs": [
    {
     "name": "stdout",
     "output_type": "stream",
     "text": [
      "<class 'pandas.core.frame.DataFrame'>\n"
     ]
    },
    {
     "data": {
      "text/plain": [
       "(8807, 12)"
      ]
     },
     "execution_count": 47,
     "metadata": {},
     "output_type": "execute_result"
    }
   ],
   "source": [
    "print(type(df))\n",
    "df.shape"
   ]
  },
  {
   "cell_type": "code",
   "execution_count": 49,
   "id": "abafb4db",
   "metadata": {},
   "outputs": [
    {
     "name": "stdout",
     "output_type": "stream",
     "text": [
      "title    0\n",
      "type     0\n",
      "dtype: int64\n"
     ]
    },
    {
     "data": {
      "text/plain": [
       "(8807, 12)"
      ]
     },
     "execution_count": 49,
     "metadata": {},
     "output_type": "execute_result"
    }
   ],
   "source": [
    "df.dropna(subset=['title', 'type'], inplace=True)\n",
    "print(df[['title', 'type']].isnull().sum())\n",
    "df.shape"
   ]
  },
  {
   "cell_type": "markdown",
   "id": "1b132c3d",
   "metadata": {},
   "source": [
    "##### Q.  Convert the `date_added` column to datetime format"
   ]
  },
  {
   "cell_type": "code",
   "execution_count": 51,
   "id": "71f845a5",
   "metadata": {},
   "outputs": [],
   "source": [
    "df['date_added'] = pd.to_datetime(df['date_added'],errors='coerce')"
   ]
  },
  {
   "cell_type": "code",
   "execution_count": 52,
   "id": "981860a9",
   "metadata": {},
   "outputs": [
    {
     "name": "stdout",
     "output_type": "stream",
     "text": [
      "datetime64[ns]\n"
     ]
    }
   ],
   "source": [
    "print(df['date_added'].dtypes)"
   ]
  },
  {
   "cell_type": "code",
   "execution_count": 53,
   "id": "29c2c975",
   "metadata": {},
   "outputs": [
    {
     "name": "stdout",
     "output_type": "stream",
     "text": [
      "0   2021-09-25\n",
      "1   2021-09-24\n",
      "2   2021-09-24\n",
      "3   2021-09-24\n",
      "4   2021-09-24\n",
      "Name: date_added, dtype: datetime64[ns]\n"
     ]
    }
   ],
   "source": [
    "\n",
    "\n",
    "print(df['date_added'].head())"
   ]
  },
  {
   "cell_type": "code",
   "execution_count": 56,
   "id": "17aea6b3",
   "metadata": {},
   "outputs": [
    {
     "name": "stdout",
     "output_type": "stream",
     "text": [
      "8802   2019-11-20\n",
      "8803   2019-07-01\n",
      "8804   2019-11-01\n",
      "8805   2020-01-11\n",
      "8806   2019-03-02\n",
      "Name: date_added, dtype: datetime64[ns]\n"
     ]
    }
   ],
   "source": [
    "print(df['date_added'].tail())"
   ]
  },
  {
   "cell_type": "markdown",
   "id": "37c26269",
   "metadata": {},
   "source": [
    "### Q NO 03 (Filtering AND Indexing)"
   ]
  },
  {
   "cell_type": "markdown",
   "id": "1fd159a3",
   "metadata": {},
   "source": [
    "#####  Showing only movies released after 2015"
   ]
  },
  {
   "cell_type": "code",
   "execution_count": 57,
   "id": "f459805a",
   "metadata": {},
   "outputs": [],
   "source": [
    "df['year_added'] = df['date_added'].dt.year"
   ]
  },
  {
   "cell_type": "code",
   "execution_count": 59,
   "id": "07e218f6",
   "metadata": {},
   "outputs": [],
   "source": [
    "Movies_After_2015 = df[(df['type'] == 'Movie') & (df['year_added'] > 2015)]"
   ]
  },
  {
   "cell_type": "code",
   "execution_count": 61,
   "id": "d24a6914",
   "metadata": {},
   "outputs": [
    {
     "name": "stdout",
     "output_type": "stream",
     "text": [
      "                               title   type date_added  year_added\n",
      "0               Dick Johnson Is Dead  Movie 2021-09-25      2021.0\n",
      "6   My Little Pony: A New Generation  Movie 2021-09-24      2021.0\n",
      "7                            Sankofa  Movie 2021-09-24      2021.0\n",
      "9                       The Starling  Movie 2021-09-24      2021.0\n",
      "12                      Je Suis Karl  Movie 2021-09-23      2021.0\n"
     ]
    }
   ],
   "source": [
    "print(Movies_After_2015[['title','type','date_added','year_added']].head())"
   ]
  },
  {
   "cell_type": "markdown",
   "id": "47b3cd84",
   "metadata": {},
   "source": [
    "#####  Filtering  all shows from the country India"
   ]
  },
  {
   "cell_type": "code",
   "execution_count": 68,
   "id": "50b69938",
   "metadata": {},
   "outputs": [
    {
     "name": "stdout",
     "output_type": "stream",
     "text": [
      "                            title country     type\n",
      "4                    Kota Factory   India  TV Show\n",
      "24                          Jeans   India    Movie\n",
      "39                   Chhota Bheem   India  TV Show\n",
      "50                  Dharmakshetra   India  TV Show\n",
      "66  Raja Rasoi Aur Anya Kahaniyan   India  TV Show\n"
     ]
    }
   ],
   "source": [
    "Shows_In_India = df[df['country'] == 'India']\n",
    "\n",
    "\n",
    "print(Shows_In_India[['title', 'country', 'type']].head())\n",
    "\n"
   ]
  },
  {
   "cell_type": "code",
   "execution_count": 66,
   "id": "7bad6a1a",
   "metadata": {},
   "outputs": [
    {
     "name": "stdout",
     "output_type": "stream",
     "text": [
      "Total shows from India: 972\n"
     ]
    }
   ],
   "source": [
    "print(f\"Total shows from India: {len(Shows_In_India)}\")"
   ]
  },
  {
   "cell_type": "markdown",
   "id": "fd328292",
   "metadata": {},
   "source": [
    "#####  Q.   Select only Movie type entries with duration over 90 minutes"
   ]
  },
  {
   "cell_type": "code",
   "execution_count": 74,
   "id": "40f28e0e",
   "metadata": {},
   "outputs": [
    {
     "name": "stdout",
     "output_type": "stream",
     "text": [
      "                               title duration  duration_minutes\n",
      "6   My Little Pony: A New Generation   91 min              91.0\n",
      "7                            Sankofa  125 min             125.0\n",
      "9                       The Starling  104 min             104.0\n",
      "12                      Je Suis Karl  127 min             127.0\n",
      "13  Confessions of an Invisible Girl   91 min              91.0\n"
     ]
    }
   ],
   "source": [
    "movies = df[df['type'] == 'Movie'].copy()\n",
    "movies['duration_minutes'] = movies['duration'].str.extract(r'(\\d+)').astype(float)\n",
    "\n",
    "movies_over_90 = movies[movies['duration_minutes'] > 90]\n",
    "print(movies_over_90[['title', 'duration', 'duration_minutes']].head())"
   ]
  },
  {
   "cell_type": "code",
   "execution_count": 76,
   "id": "dc166d08",
   "metadata": {},
   "outputs": [
    {
     "name": "stdout",
     "output_type": "stream",
     "text": [
      "Total movies over 90 minutes: 4138\n"
     ]
    }
   ],
   "source": [
    "print(f\"Total movies over 90 minutes: {len(movies_over_90)}\")"
   ]
  },
  {
   "cell_type": "markdown",
   "id": "6edb6287",
   "metadata": {},
   "source": [
    "### Q NO 04 (Column Operations)"
   ]
  },
  {
   "cell_type": "code",
   "execution_count": 77,
   "id": "4609dc63",
   "metadata": {},
   "outputs": [],
   "source": [
    "df['release_year'] = df['date_added'].dt.year"
   ]
  },
  {
   "cell_type": "code",
   "execution_count": 78,
   "id": "839f1c0d",
   "metadata": {},
   "outputs": [],
   "source": [
    "df['release_decade'] = (df['release_year'] // 10 * 10).astype('Int64').astype(str) + 's'\n"
   ]
  },
  {
   "cell_type": "code",
   "execution_count": 79,
   "id": "6b947f56",
   "metadata": {},
   "outputs": [
    {
     "name": "stdout",
     "output_type": "stream",
     "text": [
      "                   title  release_year release_decade\n",
      "0   Dick Johnson Is Dead        2021.0          2020s\n",
      "1          Blood & Water        2021.0          2020s\n",
      "2              Ganglands        2021.0          2020s\n",
      "3  Jailbirds New Orleans        2021.0          2020s\n",
      "4           Kota Factory        2021.0          2020s\n"
     ]
    }
   ],
   "source": [
    "print(df[['title', 'release_year', 'release_decade']].head())"
   ]
  },
  {
   "cell_type": "code",
   "execution_count": 80,
   "id": "f0bbe5d0",
   "metadata": {},
   "outputs": [
    {
     "name": "stdout",
     "output_type": "stream",
     "text": [
      "['Movie' 'TV Show']\n"
     ]
    }
   ],
   "source": [
    "print(df['type'].unique())"
   ]
  },
  {
   "cell_type": "code",
   "execution_count": 81,
   "id": "47109b74",
   "metadata": {},
   "outputs": [
    {
     "name": "stdout",
     "output_type": "stream",
     "text": [
      "['PG-13' 'TV-MA' 'PG' 'TV-14' 'TV-PG' 'TV-Y' 'TV-Y7' 'R' 'TV-G' 'G'\n",
      " 'NC-17' '74 min' '84 min' '66 min' 'NR' nan 'TV-Y7-FV' 'UR']\n"
     ]
    }
   ],
   "source": [
    "print(df['rating'].unique())"
   ]
  },
  {
   "cell_type": "code",
   "execution_count": 3,
   "id": "788ccc43",
   "metadata": {},
   "outputs": [
    {
     "name": "stdout",
     "output_type": "stream",
     "text": [
      "['United States' 'South Africa' nan 'India'\n",
      " 'United States, Ghana, Burkina Faso, United Kingdom, Germany, Ethiopia'\n",
      " 'United Kingdom' 'Germany, Czech Republic' 'Mexico' 'Turkey' 'Australia'\n",
      " 'United States, India, France' 'Finland' 'China, Canada, United States'\n",
      " 'South Africa, United States, Japan' 'Nigeria' 'Japan'\n",
      " 'Spain, United States' 'France' 'Belgium' 'United Kingdom, United States'\n",
      " 'United States, United Kingdom' 'France, United States' 'South Korea'\n",
      " 'Spain' 'United States, Singapore' 'United Kingdom, Australia, France'\n",
      " 'United Kingdom, Australia, France, United States'\n",
      " 'United States, Canada' 'Germany, United States'\n",
      " 'South Africa, United States' 'United States, Mexico'\n",
      " 'United States, Italy, France, Japan'\n",
      " 'United States, Italy, Romania, United Kingdom'\n",
      " 'Australia, United States' 'Argentina, Venezuela'\n",
      " 'United States, United Kingdom, Canada' 'China, Hong Kong' 'Russia'\n",
      " 'Canada' 'Hong Kong' 'United States, China, Hong Kong'\n",
      " 'Italy, United States' 'United States, Germany'\n",
      " 'United Kingdom, Canada, United States' ', South Korea' 'Ireland'\n",
      " 'India, Nepal' 'New Zealand, Australia, France, United States' 'Italy'\n",
      " 'Italy, Brazil, Greece' 'Argentina' 'Jordan' 'Colombia'\n",
      " 'United States, Japan' 'Belgium, United Kingdom'\n",
      " 'Switzerland, United Kingdom, Australia' 'Israel, United States'\n",
      " 'Canada, United States' 'Brazil' 'Argentina, Spain' 'Taiwan'\n",
      " 'United States, Nigeria' 'Bulgaria, United States'\n",
      " 'Spain, United Kingdom, United States' 'United States, China'\n",
      " 'United States, France' 'Spain, France, United Kingdom, United States'\n",
      " ', France, Algeria' 'Poland' 'Germany'\n",
      " 'France, Israel, Germany, United States, United Kingdom' 'New Zealand'\n",
      " 'Saudi Arabia' 'Thailand' 'Indonesia' 'Egypt, Denmark, Germany'\n",
      " 'United States, Switzerland' 'Hong Kong, Canada, United States'\n",
      " 'Kuwait, United States' 'France, Canada, United States, Spain'\n",
      " 'France, Netherlands, Singapore' 'France, Belgium'\n",
      " 'Ireland, United States, United Kingdom' 'Egypt' 'Malaysia' 'Israel'\n",
      " 'Australia, New Zealand' 'United Kingdom, Germany' 'Belgium, Netherlands'\n",
      " 'South Korea, Czech Republic' 'Australia, Germany' 'Vietnam'\n",
      " 'United Kingdom, Belgium' 'United Kingdom, Australia, United States'\n",
      " 'France, Japan, United States'\n",
      " 'United Kingdom, Germany, Spain, United States'\n",
      " 'United Kingdom, United States, France, Italy'\n",
      " 'United States, Germany, Canada'\n",
      " 'United States, France, Italy, United Kingdom'\n",
      " 'United States, United Kingdom, Germany, Hungary'\n",
      " 'United States, New Zealand' 'Sweden' 'China' 'Lebanon' 'Romania'\n",
      " 'Finland, Germany' 'Lebanon, Syria' 'Philippines' 'Iceland' 'Denmark'\n",
      " 'United States, India' 'Philippines, Singapore, Indonesia'\n",
      " 'China, United States, Canada' 'Lebanon, United Arab Emirates'\n",
      " 'Canada, United States, Denmark' 'United Arab Emirates'\n",
      " 'Mexico, France, Colombia' 'Netherlands' 'Germany, United States, France'\n",
      " 'United States, Bulgaria'\n",
      " 'United Kingdom, France, Germany, United States' 'Norway, Denmark'\n",
      " 'Syria, France, Lebanon, Qatar' 'United States, Czech Republic'\n",
      " 'Mauritius' 'Canada, South Africa' 'Austria' 'Mexico, Brazil'\n",
      " 'Germany, France' 'Mexico, United States'\n",
      " 'United Kingdom, France, Spain, United States' 'United States, Australia'\n",
      " 'United States, United Kingdom, France' 'United States, Russia'\n",
      " 'United States, United Kingdom, New Zealand' 'Australia, United Kingdom'\n",
      " 'Canada, Nigeria, United States'\n",
      " 'France, United States, United Kingdom, Canada' 'France, United Kingdom'\n",
      " 'India, United Kingdom' 'Canada, United States, Mexico'\n",
      " 'United Kingdom, Germany, United States'\n",
      " 'Czech Republic, United Kingdom, United States' 'China, United Kingdom'\n",
      " 'Italy, United Kingdom' 'China, Taiwan'\n",
      " 'United States, Brazil, Japan, Spain, India'\n",
      " 'United States, China, United Kingdom' 'Cameroon'\n",
      " 'Lebanon, Palestine, Denmark, Qatar' 'Japan, United States'\n",
      " 'Uruguay, Germany' 'Egypt, Saudi Arabia'\n",
      " 'United Kingdom, France, Poland, Germany, United States'\n",
      " 'Ireland, Switzerland, United Kingdom, France, United States'\n",
      " 'United Kingdom, South Africa, France'\n",
      " 'Ireland, United Kingdom, France, Germany' 'Russia, United States'\n",
      " 'United Kingdom, United States, France' 'United Kingdom,'\n",
      " 'United States, India, United Kingdom' 'Kenya' 'Spain, Argentina'\n",
      " 'India, United Kingdom, France, Qatar' 'Belgium, France'\n",
      " 'Argentina, Chile' 'United States, Thailand' 'Chile, Brazil'\n",
      " 'United States, Colombia' 'Canada, United States, United Kingdom'\n",
      " 'Uruguay' 'Luxembourg' 'United States, Cambodia, Romania' 'Bangladesh'\n",
      " 'Spain, Belgium, United States'\n",
      " 'United Kingdom, United States, Australia'\n",
      " 'Canada, United States, France' 'Portugal, United States'\n",
      " 'Portugal, Spain' 'India, United States' 'United Kingdom, Ireland'\n",
      " 'United Kingdom, Spain, United States' 'Hungary, United States'\n",
      " 'United States, South Korea' 'Canada, United States, Cayman Islands'\n",
      " 'India, France' 'France, Canada' 'Canada, Hungary, United States'\n",
      " 'Norway' 'Canada, United Kingdom, United States'\n",
      " 'United Kingdom, Germany, France, United States' 'Denmark, United States'\n",
      " 'Senegal' 'France, Algeria'\n",
      " 'United Kingdom, Finland, Germany, United States, Australia, Japan, France, Ireland'\n",
      " 'Philippines, Canada, United Kingdom, United States'\n",
      " 'Ireland, France, Iceland, United States, Mexico, Belgium, United Kingdom, Hong Kong'\n",
      " 'Singapore' 'Kuwait' 'United States, France, Serbia'\n",
      " 'United States, Italy' 'Spain, Italy'\n",
      " 'United States, Ireland, United Kingdom, India'\n",
      " 'United Kingdom, Singapore' 'Hong Kong, United States'\n",
      " 'United States, Malta, France, United Kingdom'\n",
      " 'United States, China, Canada' 'Canada, United States, Ireland'\n",
      " 'Lebanon, Canada, France' 'Japan, Canada, United States'\n",
      " 'Spain, France, Canada' 'Denmark, Singapore, Canada, United States'\n",
      " 'United States, France, Denmark' 'United States, China, Colombia'\n",
      " 'Spain, Thailand, United States' 'Mexico, Spain'\n",
      " 'Ireland, Luxembourg, Belgium' 'China, United States' 'Canada, Belgium'\n",
      " 'Canada, United Kingdom'\n",
      " 'Lebanon, United Arab Emirates, France, Switzerland, Germany'\n",
      " 'France, Belgium, Italy' 'Lebanon, United States, United Arab Emirates'\n",
      " 'Lebanon, France' 'France, Lebanon' 'France, Lebanon, United Kingdom'\n",
      " 'France, Norway, Lebanon, Belgium'\n",
      " 'Sweden, Czech Republic, United Kingdom, Denmark, Netherlands'\n",
      " 'United States, United Kingdom, India' 'Indonesia, Netherlands'\n",
      " 'Turkey, South Korea' 'Serbia, United States' 'Namibia'\n",
      " 'United Kingdom, Kenya' 'United Kingdom, France, Germany, Spain'\n",
      " 'United Kingdom, France, United States, Belgium, Luxembourg, China, Germany'\n",
      " 'Thailand, United States' 'United States, France, Canada, Belgium'\n",
      " 'United Kingdom, China' 'Germany, China, United Kingdom'\n",
      " 'Australia, New Zealand, United States'\n",
      " 'Hong Kong, Iceland, United States' 'France, Australia, Germany'\n",
      " 'United States, Belgium, Canada, France' 'South Africa, Angola'\n",
      " 'United States, Philippines'\n",
      " 'United States, United Kingdom, Canada, China'\n",
      " 'United States, Canada, United Kingdom' 'Turkey, United States'\n",
      " 'Peru, Germany, Norway' 'Mozambique' 'Brazil, France'\n",
      " 'China, Spain, South Korea, United States' 'Spain, Germany'\n",
      " 'Hong Kong, China' 'France, Belgium, Luxembourg, Cambodia,'\n",
      " 'United Kingdom, Australia' 'Belarus' 'Indonesia, United Kingdom'\n",
      " 'Switzerland, France, Belgium, United States' 'Ghana'\n",
      " 'Spain, France, Canada, United States' 'Chile, Italy'\n",
      " 'United Kingdom, Nigeria' 'Chile' 'France, Egypt' 'Egypt, France'\n",
      " 'France, Brazil, Spain, Belgium' 'Egypt, Algeria'\n",
      " 'Canada, South Korea, United States' 'Nigeria, United Kingdom'\n",
      " 'United States, France, Canada' 'Poland, United States'\n",
      " 'United Arab Emirates, Jordan, Lebanon, Saudi Arabia'\n",
      " 'United States, Mexico, Spain, Malta'\n",
      " 'Saudi Arabia, United Arab Emirates' 'Zimbabwe'\n",
      " 'United Kingdom, Germany, United Arab Emirates, New Zealand'\n",
      " 'Romania, United States' 'Canada, Nigeria'\n",
      " 'Saudi Arabia, Netherlands, Germany, Jordan, United Arab Emirates, United States'\n",
      " 'United Kingdom, Spain' 'Finland, France'\n",
      " 'United Kingdom, Germany, United States, France'\n",
      " 'India, United Kingdom, China, Canada, Japan, South Korea, United States'\n",
      " 'Italy, United Kingdom, France' 'United States, Mexico, Colombia'\n",
      " 'Turkey, India' 'Italy, Turkey' 'United Kingdom, United States, Japan'\n",
      " 'France, Belgium, United States' 'Puerto Rico, United States, Colombia'\n",
      " 'Uruguay, Argentina' 'United States, United Kingdom, Japan'\n",
      " 'United States, Argentina' 'United Kingdom, Italy'\n",
      " 'Ireland, United Kingdom'\n",
      " 'United Kingdom, France, Belgium, Canada, United States'\n",
      " 'Netherlands, Germany, Denmark, United Kingdom' 'Hungary'\n",
      " 'Austria, Germany' 'Taiwan, China'\n",
      " 'United Kingdom, United States, Ireland' 'South Korea, United States'\n",
      " 'Brazil, United Kingdom' 'Pakistan, United States'\n",
      " 'Romania, France, Switzerland, Germany' 'Romania, United Kingdom'\n",
      " 'France, Malta, United States' 'Cyprus'\n",
      " 'United Kingdom, France, Belgium, Ireland, United States'\n",
      " 'United States, Norway, Canada' 'Kenya, United States'\n",
      " 'France, South Korea, Japan, United States' 'Taiwan, Malaysia'\n",
      " 'Uruguay, Argentina, Germany, Spain'\n",
      " 'United States, United Kingdom, France, Germany, Japan'\n",
      " 'United States, France, Japan' 'United Kingdom, France, United States'\n",
      " 'Spain, France, United States' 'Indonesia, South Korea, Singapore'\n",
      " 'United States, Spain' 'Netherlands, Germany, Italy, Canada'\n",
      " 'Spain, Germany, Denmark, United States' 'Norway, Sweden'\n",
      " 'South Korea, Canada, United States, China' 'Argentina, Uruguay, Serbia'\n",
      " 'France, Japan' 'Mauritius, South Africa' 'United States, Poland'\n",
      " 'United Kingdom, United States, Germany, Denmark, Belgium, Japan'\n",
      " 'India, Germany' 'India, United Kingdom, Canada, United States'\n",
      " 'Philippines, United States' 'Romania, Bulgaria, Hungary'\n",
      " 'Uruguay, Guatemala' 'France, Senegal, Belgium' 'United Kingdom, Canada'\n",
      " 'Mexico, United States, Spain, Colombia' 'Canada, Norway'\n",
      " 'Singapore, United States' 'Finland, Germany, Belgium'\n",
      " 'United Kingdom, France' 'United States, Chile'\n",
      " 'United Kingdom, Japan, United States' 'Spain, United Kingdom'\n",
      " 'Argentina, United States, Mexico' 'United States, South Korea, Japan'\n",
      " 'Canada, Australia' 'United Kingdom, Hungary, Australia' 'Italy, Belgium'\n",
      " 'United States, United Kingdom, Germany' 'Switzerland'\n",
      " 'Singapore, Malaysia'\n",
      " 'France, Belgium, Luxembourg, Romania, Canada, United States'\n",
      " 'South Africa, Nigeria' 'Spain, France' 'United Kingdom, Hong Kong'\n",
      " 'Pakistan' 'Brazil, United States'\n",
      " 'Denmark, Brazil, France, Portugal, Sweden' 'India, Turkey'\n",
      " 'Malaysia, Singapore, Hong Kong' 'Philippines, Singapore'\n",
      " 'Australia, Canada' 'Taiwan, China, France, United States'\n",
      " 'Germany, Italy' 'Colombia, Peru, United Kingdom'\n",
      " 'Thailand, China, United States' 'Argentina, United States'\n",
      " 'Sweden, United States' 'Uruguay, Spain, Mexico'\n",
      " 'France, Luxembourg, Canada' 'Denmark, Spain' 'Chile, Argentina'\n",
      " 'United Kingdom, Belgium, Sweden' 'Canada, Brazil' 'Italy, France'\n",
      " 'Canada, Germany' 'Pakistan, United Arab Emirates' 'Ghana, United States'\n",
      " 'Mexico, Finland' 'United Arab Emirates, United Kingdom, India'\n",
      " 'Netherlands, Belgium' 'United States, Taiwan'\n",
      " 'Austria, Iraq, United States' 'United Kingdom, Malawi'\n",
      " 'Paraguay, Argentina' 'United Kingdom, Russia, United States'\n",
      " 'India, Pakistan' 'Indonesia, Singapore' 'Spain, Belgium'\n",
      " 'Iceland, Sweden, Belgium' 'Croatia' 'Uruguay, Argentina, Spain'\n",
      " 'United Kingdom, Ireland, United States'\n",
      " 'Canada, Germany, France, United States' 'United Kingdom, Japan'\n",
      " 'Norway, Denmark, Netherlands, Sweden' 'Hong Kong, China, United States'\n",
      " 'Ireland, Canada' 'Italy, Switzerland, France, Germany'\n",
      " 'Mexico, Netherlands' 'United States, Sweden' 'Germany, France, Russia'\n",
      " 'France, Iran, United States' 'United Kingdom, India'\n",
      " 'Russia, Poland, Serbia' 'Spain, Portugal' 'Peru' 'Mexico, Argentina'\n",
      " 'United Kingdom, Canada, United States, Cayman Islands'\n",
      " 'Indonesia, United States'\n",
      " 'United States, Israel, United Kingdom, Canada'\n",
      " 'Norway, Iceland, United States' 'Czech Republic, United States'\n",
      " 'United Kingdom, India, United States' 'United Kingdom, West Germany'\n",
      " 'India, Australia' 'United States,'\n",
      " 'Belgium, United Kingdom, United States' 'India, Germany, Austria'\n",
      " 'United States, Brazil, South Korea, Mexico, Japan, Germany'\n",
      " 'Spain, Mexico' 'China, Japan' 'Argentina, France'\n",
      " 'China, United States, United Kingdom'\n",
      " 'France, Luxembourg, United States' 'China, United States, Australia'\n",
      " 'Colombia, Mexico' 'United States, Canada, Ireland' 'Chile, Peru'\n",
      " 'Argentina, Italy' 'Canada, Japan, United States'\n",
      " 'United Kingdom, Canada, United States, Germany'\n",
      " 'Italy, Switzerland, Albania, Poland' 'United States, Japan, Canada'\n",
      " 'Cambodia' 'Italy, United States, Argentina'\n",
      " 'Saudi Arabia, Syria, Egypt, Lebanon, Kuwait'\n",
      " 'United States, Canada, Indonesia, United Kingdom, China, Singapore'\n",
      " 'Spain, Colombia'\n",
      " 'United Kingdom, South Africa, Australia, United States' 'Bulgaria'\n",
      " 'Argentina, Brazil, France, Poland, Germany, Denmark'\n",
      " 'United Kingdom, Spain, United States, Germany' 'Philippines, Qatar'\n",
      " 'Netherlands, Belgium, Germany, Jordan'\n",
      " 'United Arab Emirates, United States' 'Norway, Germany, Sweden'\n",
      " 'South Korea, China' 'Georgia' 'Soviet Union, India'\n",
      " 'Australia, United Arab Emirates' 'Canada, Germany, South Africa'\n",
      " 'South Korea, China, United States' 'India, Soviet Union' 'India, Mexico'\n",
      " 'Georgia, Germany, France' 'United Arab Emirates, Romania'\n",
      " 'India, Malaysia' 'Germany, Jordan, Netherlands'\n",
      " 'Turkey, France, Germany, Poland' 'Greece, United States'\n",
      " 'France, United Kingdom, United States' 'Norway, Germany'\n",
      " 'France, Morocco' 'Cambodia, United States' 'United States, Denmark'\n",
      " 'United States, Colombia, Mexico'\n",
      " 'United Kingdom, Italy, Israel, Peru, United States'\n",
      " 'Argentina, Uruguay, Spain, France'\n",
      " 'United Kingdom, France, United States, Belgium'\n",
      " 'France, Canada, China, Cambodia'\n",
      " 'United Kingdom, France, Belgium, United States' 'Chile, France'\n",
      " 'Netherlands, United States' 'France, United Kingdom, India'\n",
      " 'Czech Republic, Slovakia' 'Singapore, France' 'Spain, Switzerland'\n",
      " 'United States, Australia, China' 'South Africa, United States, Germany'\n",
      " 'United States, United Kingdom, Australia' 'Spain, Italy, Argentina'\n",
      " 'Chile, Spain, Argentina, Germany' 'West Germany'\n",
      " 'Austria, Czech Republic' 'Lebanon, Qatar'\n",
      " 'United Kingdom, Jordan, Qatar, Iran' 'France, South Korea, Japan'\n",
      " 'Israel, Germany, France' 'Canada, Japan, Netherlands'\n",
      " 'United States, Hungary' 'France, Germany' 'France, Qatar'\n",
      " 'United Kingdom, Germany, Canada' 'Ireland, South Africa'\n",
      " 'Chile, United States, France' 'Belgium, France, Netherlands'\n",
      " 'United Kingdom, Ukraine, United States'\n",
      " 'Germany, Australia, France, China' 'Norway, United States'\n",
      " 'United States, Bermuda, Ecuador'\n",
      " 'United States, Hungary, Ireland, Canada'\n",
      " 'United Kingdom, Egypt, United States'\n",
      " 'United States, France, United Kingdom' 'Spain, Mexico, France'\n",
      " 'United States, South Africa' 'Hong Kong, China, Singapore'\n",
      " 'South Africa, China, United States' 'Denmark, France, Poland'\n",
      " 'New Zealand, United Kingdom' 'Netherlands, Denmark, South Africa'\n",
      " 'Iran, France' 'United Kingdom, United States, France, Germany'\n",
      " 'Australia, France' 'Ireland, United Kingdom, United States'\n",
      " 'United Kingdom, France, Germany' 'Canada, Luxembourg'\n",
      " 'Brazil, Netherlands, United States, Colombia, Austria, Germany'\n",
      " 'France, Canada, Belgium' 'Canada, France'\n",
      " 'Bulgaria, United States, Spain, Canada' 'Sweden, Netherlands'\n",
      " 'France, United States, Mexico'\n",
      " 'Australia, United Kingdom, United Arab Emirates, Canada'\n",
      " 'Australia, Armenia, Japan, Jordan, Mexico, Mongolia, New Zealand, Philippines, South Africa, Sweden, United States, Uruguay'\n",
      " 'India, Iran' 'France, Belgium, Spain'\n",
      " 'Denmark, Sweden, Israel, United States' 'United States, Iceland'\n",
      " 'United Kingdom, Russia' 'United States, Israel, Italy, South Africa'\n",
      " 'Netherlands, Denmark, France, Germany' 'South Korea, Japan'\n",
      " 'United Kingdom, Pakistan' 'France, New Zealand'\n",
      " 'United Kingdom, Czech Republic, United States, Germany, Bahamas'\n",
      " 'China, Germany, India, United States' 'Germany, Sri Lanka'\n",
      " 'United States, India, Bangladesh' 'United States, Canada, France'\n",
      " 'Brazil, France, Germany' 'Germany, United States, Hong Kong, Singapore'\n",
      " 'France, Germany, Switzerland'\n",
      " 'Germany, France, Luxembourg, United Kingdom, United States'\n",
      " 'United Kingdom, Canada, Italy' 'Czech Republic, France'\n",
      " 'Taiwan, Hong Kong, United States, China' 'Germany, Australia'\n",
      " 'United Kingdom, Poland, United States' 'Denmark, Zimbabwe'\n",
      " 'United Kingdom, South Africa' 'Finland, Sweden, Norway, Latvia, Germany'\n",
      " 'South Africa, United States, New Zealand, Canada'\n",
      " 'United States, Italy, United Kingdom, Liechtenstein'\n",
      " 'Denmark, France, Belgium, Italy, Netherlands, United States, United Kingdom'\n",
      " 'United States, Australia, Mexico'\n",
      " 'United Kingdom, Czech Republic, Germany, United States'\n",
      " 'France, China, Japan, United States' 'United States, South Korea, China'\n",
      " 'Germany, Belgium' 'Pakistan, Norway, United States'\n",
      " 'United States, Canada, Belgium, United Kingdom' 'Venezuela'\n",
      " 'Canada, France, Italy, Morocco, United States' 'Canada, Spain, France'\n",
      " 'United States, Indonesia' 'Spain, France, Italy'\n",
      " 'United Arab Emirates, United States, United Kingdom'\n",
      " 'United Kingdom, Israel, Russia' 'Spain, Cuba' 'United States, Brazil'\n",
      " 'United States, France, Mexico' 'United States, Nicaragua'\n",
      " 'United Kingdom, United States, Spain, Germany, Greece, Canada'\n",
      " 'Italy, Canada, France' 'United Kingdom, Denmark, Canada, Croatia'\n",
      " 'Italy, Germany' 'United States, France, United Kingdom, Japan'\n",
      " 'United States, United Kingdom, Denmark, Sweden'\n",
      " 'United States, United Kingdom, Italy'\n",
      " 'United States, France, Canada, Spain' 'Russia, United States, China'\n",
      " 'United States, Canada, Germany' 'Ireland, United States'\n",
      " 'United States, United Arab Emirates' 'United States, Ireland'\n",
      " 'Ireland, United Kingdom, Italy, United States' 'Poland,'\n",
      " 'Slovenia, Croatia, Germany, Czech Republic, Qatar'\n",
      " 'Canada, United Kingdom, Netherlands' 'United States, Spain, Germany'\n",
      " 'India, Japan' 'China, South Korea, United States'\n",
      " 'United Kingdom, France, Belgium' 'Canada, Ireland, United States'\n",
      " 'United Kingdom, United States, Dominican Republic'\n",
      " 'United States, Senegal' 'Germany, United Kingdom, United States'\n",
      " 'South Africa, Germany, Netherlands, France'\n",
      " 'Canada, United States, United Kingdom, France, Luxembourg'\n",
      " 'Ireland, United States, France' 'Germany, United States, Canada'\n",
      " 'United Kingdom, Germany, Canada, United States'\n",
      " 'United States, France, Canada, Lebanon, Qatar'\n",
      " 'Netherlands, Belgium, United Kingdom, United States'\n",
      " 'France, Belgium, China, United States' 'United States, Chile, Israel'\n",
      " 'United Kingdom, Norway, Denmark, Germany, Sweden'\n",
      " 'Norway, Denmark, Sweden' 'China, India, Nepal'\n",
      " 'Colombia, Mexico, United States' 'United Kingdom, South Korea'\n",
      " 'Denmark, China' 'United States, Greece, Brazil' 'South Korea, France'\n",
      " 'United States, Australia, Samoa, United Kingdom'\n",
      " 'Germany, United Kingdom' 'Argentina, Chile, Peru' 'Turkey, Azerbaijan'\n",
      " 'Poland, West Germany' 'Germany, United States, Sweden' 'Canada, Spain'\n",
      " 'United States, Cambodia' 'United States, Greece'\n",
      " 'Norway, United Kingdom, France, Ireland' 'United Kingdom, Poland'\n",
      " 'Israel, Sweden, Germany, Netherlands' 'Switzerland, France'\n",
      " 'Italy, India' 'United States, Botswana'\n",
      " 'Chile, Argentina, France, Spain, United States'\n",
      " 'United States, India, South Korea, China'\n",
      " 'Denmark, Germany, Belgium, United Kingdom, France'\n",
      " 'Denmark, Germany, Belgium, United Kingdom, France, Sweden'\n",
      " 'France, Switzerland, Spain, United States, United Arab Emirates'\n",
      " 'Brazil, India, China, United States'\n",
      " 'Denmark, France, United States, Sweden' 'Australia, Iraq'\n",
      " 'China, Morocco, Hong Kong' 'Canada, United States, Germany'\n",
      " 'United Kingdom, Thailand' 'Venezuela, Colombia'\n",
      " 'Colombia, United States' 'France, Germany, Czech Republic, Belgium'\n",
      " 'Switzerland, Vatican City, Italy, Germany, France'\n",
      " 'Portugal, France, Poland, United States'\n",
      " 'United States, New Zealand, Japan'\n",
      " 'United States, Netherlands, Japan, France' 'India, Switzerland'\n",
      " 'Canada, India' 'United States, Morocco' 'Singapore, Japan, France'\n",
      " 'Canada, Mexico, Germany, South Africa'\n",
      " 'United Kingdom, United States, Canada'\n",
      " 'Germany, France, United States, Canada, United Kingdom'\n",
      " 'United States, Uruguay' 'India, Canada'\n",
      " 'Ireland, Canada, United Kingdom, United States'\n",
      " 'United States, Germany, Australia' 'Australia, France, Ireland'\n",
      " 'Australia, India' 'United States, United Kingdom, Canada, Japan'\n",
      " 'Sweden, United Kingdom, Finland' 'Hong Kong, Taiwan'\n",
      " 'United States, United Kingdom, Spain, South Korea' 'Guatemala' 'Ukraine'\n",
      " 'Italy, South Africa, West Germany, Australia, United States'\n",
      " 'United States, Germany, United Kingdom, Australia'\n",
      " 'Italy, France, Switzerland' 'Canada, France, United States'\n",
      " 'Switzerland, United States' 'Thailand, Canada, United States'\n",
      " 'China, Hong Kong, United States' 'United Kingdom, New Zealand'\n",
      " 'Czech Republic, United Kingdom, France'\n",
      " 'Australia, United Kingdom, Canada' 'Jamaica, United States'\n",
      " 'Australia, United Kingdom, United States, New Zealand, Italy, France'\n",
      " 'France, United States, Canada'\n",
      " 'United Kingdom, France, Canada, Belgium, United States'\n",
      " 'Denmark, United Kingdom, Sweden' 'United States, Hong Kong'\n",
      " 'United States, Kazakhstan'\n",
      " 'Argentina, France, United States, Germany, Qatar'\n",
      " 'United States, Germany, United Kingdom'\n",
      " 'United States, Germany, United Kingdom, Italy'\n",
      " 'United States, New Zealand, United Kingdom' 'Finland, United States'\n",
      " 'Spain, France, Uruguay' 'France, Canada, United States'\n",
      " 'United States, Canada, China'\n",
      " 'Ireland, Canada, Luxembourg, United States, United Kingdom, Philippines, India'\n",
      " 'United States, Czech Republic, United Kingdom' 'Israel, Germany'\n",
      " 'Mexico, France'\n",
      " 'Israel, Germany, Poland, Luxembourg, Belgium, France, United States'\n",
      " 'Austria, United States' 'United Kingdom, Lithuania'\n",
      " 'United States, Greece, United Kingdom'\n",
      " 'United Kingdom, China, United States, India'\n",
      " 'United States, Sweden, Norway' 'United Kingdom, United States, Morocco'\n",
      " 'United States, United Kingdom, Morocco' 'Spain, Canada, United States'\n",
      " 'United States, India, United Arab Emirates'\n",
      " 'United Kingdom, Canada, France, United States' 'India, Germany, France'\n",
      " 'Belgium, Ireland, Netherlands, Germany, Afghanistan'\n",
      " 'France, Canada, Italy, United States, China'\n",
      " 'Ireland, United Kingdom, Greece, France, Netherlands'\n",
      " 'Denmark, Indonesia, Finland, Norway, United Kingdom, Israel, France, United States, Germany, Netherlands'\n",
      " 'New Zealand, United States'\n",
      " 'United States, Australia, South Africa, United Kingdom'\n",
      " 'United States, Germany, Mexico'\n",
      " 'Somalia, Kenya, Sudan, South Africa, United States'\n",
      " 'United States, Canada, Japan, Panama' 'United Kingdom, Spain, Belgium'\n",
      " 'Serbia, South Korea, Slovenia'\n",
      " 'Denmark, United Kingdom, South Africa, Sweden, Belgium'\n",
      " 'Germany, Canada, United States'\n",
      " 'Ireland, Canada, United States, United Kingdom'\n",
      " 'New Zealand, United Kingdom, Australia'\n",
      " 'United Kingdom, Australia, Canada, United States'\n",
      " 'Germany, United States, Italy' 'United States, Venezuela'\n",
      " 'United Kingdom, Canada, Japan'\n",
      " 'United Kingdom, United States, Czech Republic'\n",
      " 'United Kingdom, China, United States' 'United Kingdom, Brazil, Germany'\n",
      " 'United Kingdom, Namibia, South Africa, Zimbabwe, United States'\n",
      " 'Canada, United States, India, United Kingdom'\n",
      " 'Switzerland, United Kingdom, United States'\n",
      " 'United Kingdom, India, Sweden'\n",
      " 'United States, Brazil, India, Uganda, China'\n",
      " 'Peru, United States, United Kingdom'\n",
      " 'Germany, United States, United Kingdom, Canada'\n",
      " 'Canada, India, Thailand, United States, United Arab Emirates'\n",
      " 'United States, East Germany, West Germany'\n",
      " 'France, Netherlands, South Africa, Finland'\n",
      " 'Egypt, Austria, United States' 'Russia, Spain'\n",
      " 'Croatia, Slovenia, Serbia, Montenegro' 'Japan, Canada'\n",
      " 'United States, France, South Korea, Indonesia'\n",
      " 'United Arab Emirates, Jordan']\n"
     ]
    }
   ],
   "source": [
    "\n",
    "print(df['country'].unique())"
   ]
  },
  {
   "cell_type": "markdown",
   "id": "1839a0b1",
   "metadata": {},
   "source": [
    "## PART NO 02"
   ]
  },
  {
   "cell_type": "markdown",
   "id": "a076afb9",
   "metadata": {},
   "source": [
    "### Q NO 05"
   ]
  },
  {
   "cell_type": "code",
   "execution_count": 5,
   "id": "c46afdcd",
   "metadata": {},
   "outputs": [
    {
     "name": "stdout",
     "output_type": "stream",
     "text": [
      "type\n",
      "Movie      6131\n",
      "TV Show    2676\n",
      "Name: title, dtype: int64\n"
     ]
    }
   ],
   "source": [
    "type_counts = df.groupby('type')['title'].count()\n",
    "print(type_counts)\n"
   ]
  },
  {
   "cell_type": "code",
   "execution_count": 6,
   "id": "bec554bd",
   "metadata": {},
   "outputs": [
    {
     "data": {
      "image/png": "[encoded data removed]",
      "text/plain": [
       "<Figure size 640x480 with 1 Axes>"
      ]
     },
     "metadata": {},
     "output_type": "display_data"
    }
   ],
   "source": [
    "\n",
    "type_counts.plot(kind='bar')\n",
    "plt.title('Number of Titles by Type')\n",
    "plt.xlabel('Type')\n",
    "plt.ylabel('Number of Titles')\n",
    "plt.show()"
   ]
  },
  {
   "cell_type": "code",
   "execution_count": 11,
   "id": "7e19a527",
   "metadata": {},
   "outputs": [
    {
     "name": "stdout",
     "output_type": "stream",
     "text": [
      "country\n",
      "United States     2818\n",
      "India              972\n",
      "United Kingdom     419\n",
      "Japan              245\n",
      "South Korea        199\n",
      "Name: title, dtype: int64\n"
     ]
    }
   ],
   "source": [
    "top_5_countries = (\n",
    "    df.groupby('country')['title']\n",
    "    .count()\n",
    "    .sort_values(ascending=False)\n",
    "    .head(5)\n",
    ")\n",
    "print(top_5_countries)"
   ]
  },
  {
   "cell_type": "code",
   "execution_count": 9,
   "id": "daa4a41a",
   "metadata": {},
   "outputs": [],
   "source": [
    "avg_release_year_df = df.groupby('rating', as_index=False)['release_year'].mean()\n"
   ]
  },
  {
   "cell_type": "code",
   "execution_count": 11,
   "id": "5230ee21",
   "metadata": {},
   "outputs": [
    {
     "name": "stdout",
     "output_type": "stream",
     "text": [
      "      rating  avg_release_year\n",
      "0     66 min       2015.000000\n",
      "1     74 min       2017.000000\n",
      "2     84 min       2010.000000\n",
      "3          G       1997.804878\n",
      "4      NC-17       2015.000000\n",
      "5         NR       2010.912500\n",
      "6         PG       2008.428571\n",
      "7      PG-13       2009.314286\n",
      "8          R       2010.471840\n",
      "9      TV-14       2013.655556\n",
      "10      TV-G       2015.745455\n",
      "11     TV-MA       2016.661678\n",
      "12     TV-PG       2013.529548\n",
      "13      TV-Y       2017.159609\n",
      "14     TV-Y7       2015.508982\n",
      "15  TV-Y7-FV       2014.833333\n",
      "16        UR       1999.333333\n"
     ]
    }
   ],
   "source": [
    "avg_release_year_df.rename(columns={'release_year': 'avg_release_year'}, inplace=True)\n",
    "print(avg_release_year_df)"
   ]
  },
  {
   "cell_type": "markdown",
   "id": "01975233",
   "metadata": {},
   "source": [
    "### Q NO 06"
   ]
  },
  {
   "cell_type": "code",
   "execution_count": 13,
   "id": "d266bbfa",
   "metadata": {},
   "outputs": [
    {
     "name": "stdout",
     "output_type": "stream",
     "text": [
      "    release_year  title_count\n",
      "0           1925            1\n",
      "1           1942            2\n",
      "2           1943            3\n",
      "3           1944            3\n",
      "4           1945            4\n",
      "..           ...          ...\n",
      "69          2017         1032\n",
      "70          2018         1147\n",
      "71          2019         1030\n",
      "72          2020          953\n",
      "73          2021          592\n",
      "\n",
      "[74 rows x 2 columns]\n"
     ]
    }
   ],
   "source": [
    "Release_Year_Count= df.groupby('release_year').size().reset_index(name='title_count')\n",
    "print(Release_Year_Count)"
   ]
  },
  {
   "cell_type": "code",
   "execution_count": 19,
   "id": "576c8387",
   "metadata": {},
   "outputs": [
    {
     "name": "stdout",
     "output_type": "stream",
     "text": [
      "8807\n"
     ]
    }
   ],
   "source": [
    "Titles = len(df)\n",
    "print(Titles)"
   ]
  },
  {
   "cell_type": "code",
   "execution_count": 24,
   "id": "8eb7f590",
   "metadata": {},
   "outputs": [
    {
     "name": "stdout",
     "output_type": "stream",
     "text": [
      "      type  count\n",
      "0    Movie   6131\n",
      "1  TV Show   2676\n"
     ]
    }
   ],
   "source": [
    "Counts = df.groupby('type').size().reset_index(name='count')\n",
    "print(Counts)\n"
   ]
  },
  {
   "cell_type": "code",
   "execution_count": 26,
   "id": "070364e6",
   "metadata": {},
   "outputs": [
    {
     "name": "stdout",
     "output_type": "stream",
     "text": [
      "   release_year  is_recent\n",
      "0          2020       True\n",
      "1          2021       True\n",
      "2          2021       True\n",
      "3          2021       True\n",
      "4          2021       True\n"
     ]
    }
   ],
   "source": [
    "df['is_recent'] = df['release_year'] > 2015\n",
    "\n",
    "\n",
    "print(df[['release_year', 'is_recent']].head())"
   ]
  },
  {
   "cell_type": "code",
   "execution_count": 36,
   "id": "ec0dc90e",
   "metadata": {},
   "outputs": [
    {
     "name": "stdout",
     "output_type": "stream",
     "text": [
      "                           country  recent_shows_count\n",
      "603                  United States                1796\n",
      "251                          India                 461\n",
      "506                 United Kingdom                 286\n",
      "435                    South Korea                 157\n",
      "319                          Japan                 145\n",
      "58                          Canada                 136\n",
      "444                          Spain                 130\n",
      "162                         France                  98\n",
      "342                         Mexico                  87\n",
      "368                        Nigeria                  79\n",
      "45                          Brazil                  69\n",
      "15                       Australia                  66\n",
      "105                          China                  57\n",
      "272                      Indonesia                  56\n",
      "212                        Germany                  53\n",
      "492                         Turkey                  46\n",
      "2                        Argentina                  46\n",
      "388                    Philippines                  44\n",
      "150                          Egypt                  42\n",
      "589  United Kingdom, United States                  41\n"
     ]
    }
   ],
   "source": [
    "recent_shows_per_country = df.groupby('country')['is_recent'].sum().reset_index(name='recent_shows_count')\n",
    "recent_shows_per_country = recent_shows_per_country.sort_values('recent_shows_count', ascending=False)\n",
    "print(recent_shows_per_country.head(20))\n"
   ]
  },
  {
   "cell_type": "markdown",
   "id": "d9636dc6",
   "metadata": {},
   "source": [
    "## PART NO 03"
   ]
  },
  {
   "cell_type": "markdown",
   "id": "893df5b6",
   "metadata": {},
   "source": [
    "##### What is the most common rating for TV Shows?"
   ]
  },
  {
   "cell_type": "code",
   "execution_count": 37,
   "id": "bf1ecb84",
   "metadata": {},
   "outputs": [
    {
     "data": {
      "text/plain": [
       "'TV-MA'"
      ]
     },
     "execution_count": 37,
     "metadata": {},
     "output_type": "execute_result"
    }
   ],
   "source": [
    "df[df['type'] == 'TV Show']['rating'].value_counts().idxmax()\n"
   ]
  },
  {
   "cell_type": "markdown",
   "id": "f9422d8d",
   "metadata": {},
   "source": [
    "##### Which country has the most content on Netflix?\n"
   ]
  },
  {
   "cell_type": "code",
   "execution_count": 42,
   "id": "f27251dc",
   "metadata": {},
   "outputs": [
    {
     "name": "stdout",
     "output_type": "stream",
     "text": [
      "United States\n"
     ]
    }
   ],
   "source": [
    "country_counts = df['country'].value_counts()\n",
    "\n",
    "most_content_country = country_counts.idxmax()\n",
    "print(most_content_country)"
   ]
  },
  {
   "cell_type": "code",
   "execution_count": 47,
   "id": "b4bf75ba",
   "metadata": {},
   "outputs": [
    {
     "name": "stdout",
     "output_type": "stream",
     "text": [
      "country\n",
      "United States     2818\n",
      "India              972\n",
      "United Kingdom     419\n",
      "Japan              245\n",
      "South Korea        199\n",
      "Name: count, dtype: int64\n"
     ]
    }
   ],
   "source": [
    "print(country_counts.head())"
   ]
  },
  {
   "cell_type": "markdown",
   "id": "863d9e33",
   "metadata": {},
   "source": [
    "#####  Are most Netflix titles older or recent (after 2015)?"
   ]
  },
  {
   "cell_type": "code",
   "execution_count": 45,
   "id": "09780e3b",
   "metadata": {},
   "outputs": [
    {
     "name": "stdout",
     "output_type": "stream",
     "text": [
      "is_recent\n",
      "True     5656\n",
      "False    3151\n",
      "Name: count, dtype: int64\n"
     ]
    }
   ],
   "source": [
    "recent_vs_older = df['is_recent'].value_counts()\n",
    "print(recent_vs_older)"
   ]
  },
  {
   "cell_type": "markdown",
   "id": "ee607dfd",
   "metadata": {},
   "source": [
    "##### Whats the average release year for Netflix Movies?"
   ]
  },
  {
   "cell_type": "code",
   "execution_count": 50,
   "id": "125438d1",
   "metadata": {},
   "outputs": [],
   "source": [
    "movies_df = df[df['type'] == 'Movie']"
   ]
  },
  {
   "cell_type": "code",
   "execution_count": 53,
   "id": "a9d8dc17",
   "metadata": {},
   "outputs": [
    {
     "name": "stdout",
     "output_type": "stream",
     "text": [
      "      rating  avg_release_year\n",
      "0     66 min       2015.000000\n",
      "1     74 min       2017.000000\n",
      "2     84 min       2010.000000\n",
      "3          G       1997.804878\n",
      "4      NC-17       2015.000000\n",
      "5         NR       2010.912500\n",
      "6         PG       2008.428571\n",
      "7      PG-13       2009.314286\n",
      "8          R       2010.471840\n",
      "9      TV-14       2013.655556\n",
      "10      TV-G       2015.745455\n",
      "11     TV-MA       2016.661678\n",
      "12     TV-PG       2013.529548\n",
      "13      TV-Y       2017.159609\n",
      "14     TV-Y7       2015.508982\n",
      "15  TV-Y7-FV       2014.833333\n",
      "16        UR       1999.333333\n"
     ]
    }
   ],
   "source": [
    "avg_release_year_movies = movies_df['release_year'].mean()\n",
    "print(avg_release_year_df)"
   ]
  },
  {
   "cell_type": "markdown",
   "id": "94268420",
   "metadata": {},
   "source": [
    "##### Through this analysis, I developed my ability to use pandas for data cleaning, creating new columns, and grouping data to answer insightful questions about Netflix’s content\n"
   ]
  }
 ],
 "metadata": {
  "kernelspec": {
   "display_name": "Python 3",
   "language": "python",
   "name": "python3"
  },
  "language_info": {
   "codemirror_mode": {
    "name": "ipython",
    "version": 3
   },
   "file_extension": ".py",
   "mimetype": "text/x-python",
   "name": "python",
   "nbconvert_exporter": "python",
   "pygments_lexer": "ipython3",
   "version": "3.13.3"
  }
 },
 "nbformat": 4,
 "nbformat_minor": 5
}
